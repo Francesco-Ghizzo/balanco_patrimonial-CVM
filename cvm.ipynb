{
 "cells": [
  {
   "cell_type": "code",
   "execution_count": 1,
   "id": "0ac50bc9",
   "metadata": {},
   "outputs": [],
   "source": [
    "import pandas as pd\n",
    "import numpy as np"
   ]
  },
  {
   "cell_type": "code",
   "execution_count": null,
   "id": "b54ff209",
   "metadata": {},
   "outputs": [],
   "source": [
    "d = pd.read_csv(r'C:\\Users\\atdal\\Downloads\\dfp_cia_aberta_BPA_con_2016.csv',encoding = 'ISO-8859-1',sep=\";\")    # leio o .csv\n",
    "\n"
   ]
  },
  {
   "cell_type": "code",
   "execution_count": null,
   "id": "66e25976",
   "metadata": {},
   "outputs": [],
   "source": [
    "d = d[d['CNPJ_CIA'] == '97.837.181/0001-47']    # dataframe = linhas do dataframe onde ('CNPJ_CIA' == '97.837.181/0001-47') == True\n",
    "                                                # (seleciono somente as linhas relativas a uma companhia de interesse)"
   ]
  },
  {
   "cell_type": "code",
   "execution_count": null,
   "id": "1df940e5",
   "metadata": {},
   "outputs": [],
   "source": [
    "df = d[['ORDEM_EXERC','CD_CONTA','DS_CONTA','VL_CONTA']].copy()\n",
    "d.drop_duplicates(['CD_CONTA','DS_CONTA'], inplace = True)"
   ]
  },
  {
   "cell_type": "code",
   "execution_count": null,
   "id": "05a34cb7",
   "metadata": {},
   "outputs": [],
   "source": [
    "rubricas = {a:b for a,b in zip(d['CD_CONTA'],d['DS_CONTA'])}    \n",
    "\n",
    "# crio um dicionário chamado \"rubricas\" com os elementos de 'CD_CONTA' como keys e os elementos de 'DS_CONTA'como values"
   ]
  },
  {
   "cell_type": "code",
   "execution_count": null,
   "id": "52f8c162",
   "metadata": {},
   "outputs": [],
   "source": [
    "def primeiro_filtro(código):    # a variável código é um key do dicionário (elemento da coluna 'CD_CONTA')\n",
    "    if len(código) == 1:    # se o tamanho do código é igual a 1\n",
    "        classificação = rubricas[código]    # a variável classificação é igual à Descrição da Conta que corresponde à chave \"código\" de tamanho 1\n",
    "    elif len(código) > 1:   # se o tamanho do código for maior do que 1\n",
    "        classificação = rubricas[código[:1]]    # a variável classificação é igual à Descrição da Conta que corresponde ao primeiro algarismo da chave \"código\"\n",
    "    return classificação\n",
    "\n",
    "df['1º Classificação'] = df['CD_CONTA'].map(lambda x:primeiro_filtro(x))"
   ]
  },
  {
   "cell_type": "code",
   "execution_count": null,
   "id": "70fb694e",
   "metadata": {},
   "outputs": [],
   "source": [
    "def segundo_filtro(código):\n",
    "    if len(código) == 4:\n",
    "        classificação = rubricas[código]\n",
    "    elif len(código) > 4:\n",
    "        classificação = rubricas[código[:4]]\n",
    "    elif len(código) < 4:\n",
    "        classificação = rubricas[código]\n",
    "    return classificação\n",
    "\n",
    "df['2º Classificação'] = df['CD_CONTA'].map(lambda x:segundo_filtro(x))"
   ]
  },
  {
   "cell_type": "code",
   "execution_count": null,
   "id": "d56e9dc7",
   "metadata": {},
   "outputs": [],
   "source": [
    "def terceiro_filtro(código):\n",
    "    if len(código) == 7:\n",
    "        classificação = rubricas[código]\n",
    "    elif len(código) > 7:\n",
    "        classificação = rubricas[código[:7]]\n",
    "    elif len(código) < 7:\n",
    "        classificação = rubricas[código]\n",
    "    return classificação\n",
    "\n",
    "df['3º Classificação'] = df['CD_CONTA'].map(lambda x:terceiro_filtro(x))"
   ]
  },
  {
   "cell_type": "code",
   "execution_count": null,
   "id": "c656b1f8",
   "metadata": {},
   "outputs": [],
   "source": [
    "def quarto_filtro(código):\n",
    "    if len(código) == 10:\n",
    "        classificação = rubricas[código]\n",
    "    elif len(código) > 10:\n",
    "        classificação = rubricas[código[:10]]\n",
    "    elif len(código) < 10:\n",
    "        classificação = rubricas[código]\n",
    "    return classificação\n",
    "\n",
    "df['4º Classificação'] = df['CD_CONTA'].map(lambda x:quarto_filtro(x))"
   ]
  },
  {
   "cell_type": "code",
   "execution_count": null,
   "id": "61955016",
   "metadata": {},
   "outputs": [],
   "source": [
    "def quinto_filtro(código):\n",
    "    if len(código) == 13:\n",
    "        classificação = rubricas[código]\n",
    "    elif len(código) > 13:\n",
    "        classificação = rubricas[código[:13]]\n",
    "    elif len(código) < 13:\n",
    "        classificação = rubricas[código]\n",
    "    return classificação\n",
    "\n",
    "df['5º Classificação'] = df['CD_CONTA'].map(lambda x:quinto_filtro(x))"
   ]
  },
  {
   "cell_type": "code",
   "execution_count": null,
   "id": "30d52f7c",
   "metadata": {},
   "outputs": [],
   "source": [
    "ultimo_df = df[(df['ORDEM_EXERC'] == 'ÚLTIMO')].copy()\n",
    "ultimo_df.rename(columns = {'VL_CONTA':'Último'},inplace = True)\n",
    "ultimo_df.drop('ORDEM_EXERC',axis = 1,inplace = True)\n",
    "ultimo_df.reset_index(inplace = True)\n",
    "penultimo_df = df[(df['ORDEM_EXERC'] == 'PENÚLTIMO')].copy()\n",
    "penultimo_df.rename(columns = {'VL_CONTA':'Penúltimo'},inplace = True)\n",
    "penultimo_df.drop('ORDEM_EXERC',axis = 1, inplace = True)\n",
    "penultimo_df.reset_index(inplace = True)\n",
    "new_df = pd.concat((ultimo_df.loc[:,(['DS_CONTA','1º Classificação','2º Classificação','3º Classificação',\n",
    "                                      '4º Classificação','5º Classificação','Último'])],penultimo_df.loc[:,('Penúltimo')]),axis = 1)"
   ]
  }
 ],
 "metadata": {
  "celltoolbar": "Raw Cell Format",
  "kernelspec": {
   "display_name": "Python 3 (ipykernel)",
   "language": "python",
   "name": "python3"
  },
  "language_info": {
   "codemirror_mode": {
    "name": "ipython",
    "version": 3
   },
   "file_extension": ".py",
   "mimetype": "text/x-python",
   "name": "python",
   "nbconvert_exporter": "python",
   "pygments_lexer": "ipython3",
   "version": "3.9.7"
  }
 },
 "nbformat": 4,
 "nbformat_minor": 5
}
